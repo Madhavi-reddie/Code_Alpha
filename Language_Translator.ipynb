{
 "cells": [
  {
   "cell_type": "markdown",
   "id": "99526a99",
   "metadata": {},
   "source": [
    "## CodeAlpha"
   ]
  },
  {
   "cell_type": "markdown",
   "id": "ca1e9f31",
   "metadata": {},
   "source": [
    "### Task 1"
   ]
  },
  {
   "cell_type": "markdown",
   "id": "13002aa2",
   "metadata": {},
   "source": [
    "### Language translator :\n",
    "The objective of this python project is to translate text content from one language to any other language  in real-time with a button click. it is recommended to create a graphical user interface using tkinter and provide a nice user experience."
   ]
  },
  {
   "cell_type": "code",
   "execution_count": 38,
   "id": "bf4add73",
   "metadata": {},
   "outputs": [
    {
     "name": "stdout",
     "output_type": "stream",
     "text": [
      "Requirement already satisfied: ttkthemes in c:\\users\\mr\\anaconda3\\lib\\site-packages (3.2.2)Note: you may need to restart the kernel to use updated packages.\n",
      "\n",
      "Requirement already satisfied: pillow in c:\\users\\mr\\anaconda3\\lib\\site-packages (from ttkthemes) (9.4.0)\n"
     ]
    }
   ],
   "source": [
    "pip install ttkthemes\n"
   ]
  },
  {
   "cell_type": "code",
   "execution_count": 39,
   "id": "a9140c5d",
   "metadata": {},
   "outputs": [],
   "source": [
    "# import the packages\n",
    "import tkinter as tk\n",
    "\n",
    "from tkinter import ttk\n",
    "\n",
    "from googletrans import Translator, LANGUAGES"
   ]
  },
  {
   "cell_type": "code",
   "execution_count": 40,
   "id": "6977086c",
   "metadata": {},
   "outputs": [],
   "source": [
    "def translate_text():\n",
    "    try:\n",
    "        # Get the input text from the text field\n",
    "        text_to_translate = input_text.get(\"1.0\", tk.END).strip()\n",
    "\n",
    "        # Get the selected language from the dropdown menu\n",
    "        selected_language = language_var.get()\n",
    "\n",
    "        # Perform translation\n",
    "        translator = Translator()\n",
    "        translated_text = translator.translate(text_to_translate, dest=selected_language)\n",
    "\n",
    "        # Update the output text field with the translated text\n",
    "        output_text.config(state=tk.NORMAL)\n",
    "        output_text.delete(\"1.0\", tk.END)\n",
    "        output_text.insert(tk.END, translated_text.text)\n",
    "        output_text.config(state=tk.DISABLED)\n",
    "    except Exception as e:\n",
    "        output_text.config(state=tk.NORMAL)\n",
    "        output_text.delete(\"1.0\", tk.END)\n",
    "        output_text.insert(tk.END, \"An error occurred. Please try again later.\")\n",
    "        output_text.config(state=tk.DISABLED)\n"
   ]
  },
  {
   "cell_type": "code",
   "execution_count": 41,
   "id": "95a6ca6f",
   "metadata": {},
   "outputs": [],
   "source": [
    "# Create the main window\n",
    "root = tk.Tk()\n",
    "root.title(\"Language Translator\")\n",
    "\n",
    "# Apply a theme to the ttk widgets\n",
    "style = ttk.Style(root)\n",
    "style.theme_use(\"clam\")  # Choose any available theme ('clam', 'vista', 'winnative', etc.)"
   ]
  },
  {
   "cell_type": "code",
   "execution_count": 42,
   "id": "b1bfb81a",
   "metadata": {},
   "outputs": [],
   "source": [
    "# Create input and output text fields with placeholder text\n",
    "input_text = tk.Text(root, height=5, width=50)\n",
    "input_text.insert(tk.END, \"Enter text to translate here...\")\n",
    "output_text = tk.Text(root, height=5, width=50, state=tk.DISABLED)"
   ]
  },
  {
   "cell_type": "code",
   "execution_count": 43,
   "id": "98c62f69",
   "metadata": {},
   "outputs": [],
   "source": [
    "# Add labels\n",
    "input_label = ttk.Label(root, text=\"Input Text:\")\n",
    "output_label = ttk.Label(root, text=\"Translated Text:\")\n",
    "language_label = ttk.Label(root, text=\"Select Language:\")"
   ]
  },
  {
   "cell_type": "code",
   "execution_count": 44,
   "id": "8dc65028",
   "metadata": {},
   "outputs": [],
   "source": [
    "# Create a list of available languages for the dropdown menu (Full language names)\n",
    "language_options = list(LANGUAGES.values())\n",
    "language_var = tk.StringVar(root)\n",
    "language_var.set(\"English\")  # Set the default language to English\n",
    "language_dropdown = ttk.Combobox(root, textvariable=language_var, values=language_options, state=\"readonly\")"
   ]
  },
  {
   "cell_type": "code",
   "execution_count": 45,
   "id": "948bdc6d",
   "metadata": {},
   "outputs": [],
   "source": [
    "# Create the translate button\n",
    "translate_button = ttk.Button(root, text=\"Translate\", command=translate_text)"
   ]
  },
  {
   "cell_type": "code",
   "execution_count": 46,
   "id": "d629a6ab",
   "metadata": {},
   "outputs": [],
   "source": [
    "# Place the widgets using grid layout\n",
    "input_label.grid(row=0, column=0, padx=10, pady=5)\n",
    "input_text.grid(row=1, column=0, padx=10, pady=5, columnspan=3)\n",
    "language_label.grid(row=2, column=0, padx=10, pady=5)\n",
    "language_dropdown.grid(row=2, column=1, padx=10, pady=5)\n",
    "translate_button.grid(row=2, column=2, padx=10, pady=5)\n",
    "output_label.grid(row=3, column=0, padx=10, pady=5)\n",
    "output_text.grid(row=4, column=0, padx=10, pady=5, columnspan=3)"
   ]
  },
  {
   "cell_type": "code",
   "execution_count": 47,
   "id": "3b918591",
   "metadata": {},
   "outputs": [],
   "source": [
    "# Center the window on the screen\n",
    "root.update_idletasks()\n",
    "screen_width = root.winfo_screenwidth()\n",
    "screen_height = root.winfo_screenheight()\n",
    "x = (screen_width - root.winfo_reqwidth()) // 2\n",
    "y = (screen_height - root.winfo_reqheight()) // 2\n",
    "root.geometry(\"+{}+{}\".format(x, y))\n",
    "\n",
    "root.mainloop()"
   ]
  },
  {
   "cell_type": "code",
   "execution_count": null,
   "id": "4ac8db1a",
   "metadata": {},
   "outputs": [],
   "source": []
  }
 ],
 "metadata": {
  "kernelspec": {
   "display_name": "Python 3 (ipykernel)",
   "language": "python",
   "name": "python3"
  },
  "language_info": {
   "codemirror_mode": {
    "name": "ipython",
    "version": 3
   },
   "file_extension": ".py",
   "mimetype": "text/x-python",
   "name": "python",
   "nbconvert_exporter": "python",
   "pygments_lexer": "ipython3",
   "version": "3.10.9"
  }
 },
 "nbformat": 4,
 "nbformat_minor": 5
}
